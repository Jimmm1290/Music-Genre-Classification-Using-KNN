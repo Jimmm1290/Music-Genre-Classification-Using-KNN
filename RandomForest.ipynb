{
 "cells": [
  {
   "cell_type": "code",
   "execution_count": 1,
   "id": "944d5788",
   "metadata": {},
   "outputs": [],
   "source": [
    "# Importing python library\n",
    "from sklearn.neighbors import NearestNeighbors\n",
    "import pandas as pd\n",
    "import plotly.express as px\n",
    "import matplotlib.pyplot as plt\n",
    "get_ipython().run_line_magic('matplotlib', 'inline')\n",
    "import numpy as np\n",
    "import seaborn as sns"
   ]
  },
  {
   "cell_type": "code",
   "execution_count": 3,
   "id": "60b996af",
   "metadata": {},
   "outputs": [
    {
     "data": {
      "text/plain": [
       "danceability        float64\n",
       "energy              float64\n",
       "acousticness        float64\n",
       "instrumentalness    float64\n",
       "valence             float64\n",
       "target                int64\n",
       "dtype: object"
      ]
     },
     "execution_count": 3,
     "metadata": {},
     "output_type": "execute_result"
    }
   ],
   "source": [
    "# Read in csv file to each playlist and graph each attribute to spot differences. \n",
    "# I am reading in my happy and euphonious playlists.\n",
    "\n",
    "mixed = pd.read_csv(\"rdataset7.csv\")\n",
    "\n",
    "# plt.plot(mixed.energy, color='blue')\n",
    "# plt.plot(mixed.valence, color='red')\n",
    "# mixed['danceability']=mixed['danceability'].astype(int)\n",
    "mixed.isnull().values.any()\n",
    "mixed.dtypes\n",
    "\n"
   ]
  },
  {
   "cell_type": "code",
   "execution_count": 4,
   "id": "f3fb8ad9",
   "metadata": {},
   "outputs": [
    {
     "name": "stdout",
     "output_type": "stream",
     "text": [
      "<class 'pandas.core.frame.DataFrame'>\n",
      "RangeIndex: 160 entries, 0 to 159\n",
      "Data columns (total 5 columns):\n",
      " #   Column            Non-Null Count  Dtype  \n",
      "---  ------            --------------  -----  \n",
      " 0   danceability      160 non-null    float64\n",
      " 1   energy            160 non-null    float64\n",
      " 2   acousticness      160 non-null    float64\n",
      " 3   instrumentalness  160 non-null    float64\n",
      " 4   valence           160 non-null    float64\n",
      "dtypes: float64(5)\n",
      "memory usage: 6.4 KB\n"
     ]
    }
   ],
   "source": [
    "# STEP 6: Normalize/Standardize the dataset\n",
    "\n",
    "from sklearn.preprocessing import StandardScaler\n",
    "scaler = StandardScaler()\n",
    "scaler.fit(mixed.drop('target', axis=1))\n",
    "scaled_features = scaler.transform(mixed.drop('target',axis=1))\n",
    "scaled_features\n",
    "mixed_feat = pd.DataFrame(scaled_features, columns = mixed.columns[:-1])\n",
    "mixed_feat.info()\n"
   ]
  },
  {
   "cell_type": "code",
   "execution_count": 14,
   "id": "b926051c",
   "metadata": {},
   "outputs": [
    {
     "data": {
      "text/plain": [
       "RandomForestClassifier(max_depth=5)"
      ]
     },
     "execution_count": 14,
     "metadata": {},
     "output_type": "execute_result"
    }
   ],
   "source": [
    "# STEP 7: Split dataset into training and testing sets\n",
    "import matplotlib.pyplot as plt\n",
    "from sklearn.model_selection import train_test_split\n",
    "from sklearn.metrics import accuracy_score, confusion_matrix, classification_report\n",
    "from sklearn.ensemble import RandomForestClassifier\n",
    "X = mixed_feat\n",
    "y = mixed['target']\n",
    "\n",
    "X_train, X_test, y_train, y_test = train_test_split(X, y, test_size=0.3, random_state=30, shuffle=True)\n",
    "forest = RandomForestClassifier(n_estimators=100, max_depth= 5)\n",
    "forest.fit(X_train, y_train)"
   ]
  },
  {
   "cell_type": "code",
   "execution_count": 12,
   "id": "99d6db8e",
   "metadata": {},
   "outputs": [
    {
     "data": {
      "text/plain": [
       "0.8125"
      ]
     },
     "execution_count": 12,
     "metadata": {},
     "output_type": "execute_result"
    }
   ],
   "source": [
    "forest.score(X_test, y_test)"
   ]
  },
  {
   "cell_type": "code",
   "execution_count": 13,
   "id": "f229b548",
   "metadata": {},
   "outputs": [
    {
     "name": "stdout",
     "output_type": "stream",
     "text": [
      "[[ 4  0  3  0]\n",
      " [ 0 10  1  0]\n",
      " [ 0  0  2  0]\n",
      " [ 0  0  2 10]]\n",
      "              precision    recall  f1-score   support\n",
      "\n",
      "           0       1.00      0.57      0.73         7\n",
      "           1       1.00      0.91      0.95        11\n",
      "           2       0.25      1.00      0.40         2\n",
      "           3       1.00      0.83      0.91        12\n",
      "\n",
      "    accuracy                           0.81        32\n",
      "   macro avg       0.81      0.83      0.75        32\n",
      "weighted avg       0.95      0.81      0.85        32\n",
      "\n"
     ]
    }
   ],
   "source": [
    "pred = forest.predict(X_test)\n",
    "print(confusion_matrix(y_test, pred))\n",
    "print(classification_report(y_test, pred))"
   ]
  }
 ],
 "metadata": {
  "kernelspec": {
   "display_name": "Python 3 (ipykernel)",
   "language": "python",
   "name": "python3"
  },
  "language_info": {
   "codemirror_mode": {
    "name": "ipython",
    "version": 3
   },
   "file_extension": ".py",
   "mimetype": "text/x-python",
   "name": "python",
   "nbconvert_exporter": "python",
   "pygments_lexer": "ipython3",
   "version": "3.9.12"
  }
 },
 "nbformat": 4,
 "nbformat_minor": 5
}
